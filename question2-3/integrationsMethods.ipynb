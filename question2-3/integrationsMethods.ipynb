{
 "cells": [
  {
   "cell_type": "code",
   "execution_count": 117,
   "id": "36af243d",
   "metadata": {},
   "outputs": [],
   "source": [
    "import math\n",
    "from typing import Tuple\n",
    "from functools import reduce\n",
    "from functools import singledispatch"
   ]
  },
  {
   "cell_type": "code",
   "execution_count": 118,
   "id": "e8bf8e14",
   "metadata": {},
   "outputs": [],
   "source": [
    "def z(x: float, x0: float, h: float):\n",
    "    return x - x0 / h"
   ]
  },
  {
   "cell_type": "code",
   "execution_count": 119,
   "id": "0901f8d4",
   "metadata": {},
   "outputs": [],
   "source": [
    "# Regra dos Trapézios\n",
    "def I_trapezoid(h: float, y: float):\n",
    "    return (h / 2) * (y)"
   ]
  },
  {
   "cell_type": "code",
   "execution_count": 120,
   "id": "40ae9329",
   "metadata": {},
   "outputs": [],
   "source": [
    "# Método de Simpson\n",
    "def I_Simpson(h: float, y: float):\n",
    "    return (h / 3) * (y)"
   ]
  },
  {
   "cell_type": "code",
   "execution_count": 121,
   "id": "1dae817e",
   "metadata": {},
   "outputs": [],
   "source": [
    "def func(x):\n",
    "    return (math.exp(-(x**2))) / (math.cos(x) + 2)"
   ]
  },
  {
   "cell_type": "code",
   "execution_count": 122,
   "id": "c0a84dd3",
   "metadata": {},
   "outputs": [],
   "source": [
    "def _ensure_int(value, name: str) -> int:\n",
    "    if isinstance(value, int):\n",
    "        return value\n",
    "    if isinstance(value, float) and value.is_integer():\n",
    "        return int(value)\n",
    "    raise TypeError(f\"{name} must be an integer (got {type(value).__name__})\")"
   ]
  },
  {
   "cell_type": "code",
   "execution_count": 127,
   "id": "f153a2f1",
   "metadata": {},
   "outputs": [
    {
     "name": "stdout",
     "output_type": "stream",
     "text": [
      "0.259933\n"
     ]
    }
   ],
   "source": [
    "# Regra dos Trapézios resultado\n",
    "def result_I_trapezoid_with_expression(\n",
    "    expression: object,\n",
    "    interval: tuple,\n",
    "    weight: int = 10000,\n",
    ") -> float:\n",
    "    if not callable(expression):\n",
    "        raise TypeError(\"Expression must be callable\")\n",
    "    start = interval[0] * weight\n",
    "    end = interval[1] * weight\n",
    "    step = interval[2] * weight\n",
    "    # ensure start, end and step are integers (allow float values that are whole numbers)\n",
    "    start = _ensure_int(start, \"start\")\n",
    "    end = _ensure_int(end, \"end\")\n",
    "    step = _ensure_int(step, \"step\")\n",
    "    # sample interior points (normalized by weight)\n",
    "\n",
    "    y = [expression(x / weight) for x in range(start + step, end, step)]\n",
    "    y = list(map(lambda x: x * 2, y))\n",
    "    # include endpoints\n",
    "    y.insert(0, expression(start / weight))\n",
    "    y.append(expression(end / weight))\n",
    "    return I_trapezoid(step / weight, sum(y))\n",
    "\n",
    "\n",
    "# Regra dos Trapézios resultado\n",
    "def result_I_trapezoid_with_y_list(y_list: list, h: int) -> float:\n",
    "    y = [value * 2 for value in y]\n",
    "    # include endpoints\n",
    "    y.append(y[0])\n",
    "    y.append(y[-1])\n",
    "    return I_trapezoid(h, sum(y_list))\n",
    "\n",
    "\n",
    "if __name__ == \"__main__\":\n",
    "    # print(\n",
    "    #     result_I_trapezoid_with_expression(\n",
    "    #         lambda x: (x**3) * math.log(x, math.e), (1, 3, (3 - 1) / 4)\n",
    "    #     )\n",
    "    # )\n",
    "    print(round(result_I_trapezoid_with_expression(func, (0, 1, 1 / 50)), 6))"
   ]
  },
  {
   "cell_type": "code",
   "execution_count": 128,
   "id": "d1dd9970",
   "metadata": {},
   "outputs": [
    {
     "name": "stdout",
     "output_type": "stream",
     "text": [
      "0.259941\n"
     ]
    }
   ],
   "source": [
    "def result_I_Simpson_with_expression(\n",
    "    expression: object,\n",
    "    interval: tuple,\n",
    "    weight: int = 10000,\n",
    ") -> float:\n",
    "    if not callable(expression):\n",
    "        raise TypeError(\"Expression must be callable\")\n",
    "    start = interval[0] * weight\n",
    "    end = interval[1] * weight\n",
    "    step = interval[2] * weight\n",
    "    # ensure start, end and step are integers (allow float values that are whole numbers)\n",
    "    start = _ensure_int(start, \"start\")\n",
    "    end = _ensure_int(end, \"end\")\n",
    "    step = _ensure_int(step, \"step\")\n",
    "    intervals = list(range(start, end + step, step))\n",
    "\n",
    "    def new_value(acc, item):\n",
    "        index, value = item\n",
    "        multiplier = 2\n",
    "        if index % 2:\n",
    "            multiplier = 4\n",
    "        elif not index or index + 1 == len(intervals):\n",
    "            multiplier = 1\n",
    "        return acc + expression(value / weight) * multiplier\n",
    "\n",
    "    total = reduce(new_value, enumerate(intervals), 0)\n",
    "    # include endpoints\n",
    "    return I_Simpson(step / weight, total)\n",
    "\n",
    "\n",
    "def result_I_Simpson_with_y_list(\n",
    "    y_list: list,\n",
    "    h: float,\n",
    ") -> float:\n",
    "    def new_value(acc, item):\n",
    "        index, y = item\n",
    "        multiplier = 2\n",
    "        if index % 2:\n",
    "            multiplier = 4\n",
    "        elif not index or index + 1 == len(y_list):\n",
    "            multiplier = 1\n",
    "        return acc + y * multiplier\n",
    "\n",
    "    total = reduce(new_value, enumerate(y_list), 0)\n",
    "    # include endpoints\n",
    "    return I_Simpson(h, total)\n",
    "\n",
    "\n",
    "if __name__ == \"__main__\":\n",
    "    # print(4 * result_I_Simpson_with_expression(lambda x: (1 + (x**2)) ** -1, (0, 1, 0.25)))\n",
    "    # print(\n",
    "    #     result_I_Simpson_with_expression(\n",
    "    #         lambda x: x * (math.e ** (2 * x)) / ((1 + 2 * x) ** 2), (0, 3, 0.5)\n",
    "    #     )\n",
    "    # )\n",
    "    print(round(result_I_Simpson_with_expression(func, (0, 1, 1/100)), 6))"
   ]
  },
  {
   "cell_type": "code",
   "execution_count": 125,
   "id": "3acb9d31",
   "metadata": {},
   "outputs": [
    {
     "name": "stdout",
     "output_type": "stream",
     "text": [
      "5\n",
      "15\n",
      "False\n"
     ]
    }
   ],
   "source": [
    "@singledispatch\n",
    "def sum_two_values(a, b):\n",
    "    raise TypeError(\"Unsupported types\")\n",
    "\n",
    "@sum_two_values.register\n",
    "def _(a: int, b: int):\n",
    "    return a + b\n",
    "\n",
    "@sum_two_values.register\n",
    "def _(a: list, b: list):\n",
    "    return sum(a) + sum(b)\n",
    "\n",
    "@sum_two_values.register\n",
    "def _(a: bool, b: bool):\n",
    "    return a and b\n",
    "\n",
    "@sum_two_values.register\n",
    "def _(a: object, b: object):\n",
    "    if not callable(a) or not callable(b):\n",
    "        raise TypeError(\"Expression must be callable\")\n",
    "    return a() + b()\n",
    "\n",
    "if __name__ == \"__main__\":\n",
    "    print(sum_two_values(2, 3))                    # 5\n",
    "    print(sum_two_values([2, 3, 4], [1, 2, 3]))   # 15\n",
    "    print(sum_two_values(False, True))             # False"
   ]
  }
 ],
 "metadata": {
  "kernelspec": {
   "display_name": "trabalho-fase4-m2",
   "language": "python",
   "name": "python3"
  },
  "language_info": {
   "codemirror_mode": {
    "name": "ipython",
    "version": 3
   },
   "file_extension": ".py",
   "mimetype": "text/x-python",
   "name": "python",
   "nbconvert_exporter": "python",
   "pygments_lexer": "ipython3",
   "version": "3.13.9"
  }
 },
 "nbformat": 4,
 "nbformat_minor": 5
}
