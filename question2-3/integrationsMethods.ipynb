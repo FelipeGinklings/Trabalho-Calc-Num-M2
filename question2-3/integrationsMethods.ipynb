{
 "cells": [
  {
   "cell_type": "code",
   "execution_count": 361,
   "id": "36af243d",
   "metadata": {},
   "outputs": [],
   "source": [
    "import math\n",
    "from functools import reduce\n",
    "DECIMAL_HOUSES = 6"
   ]
  },
  {
   "cell_type": "code",
   "execution_count": 362,
   "id": "e8bf8e14",
   "metadata": {},
   "outputs": [],
   "source": [
    "def z(x: float, x0: float, h: float):\n",
    "    return x - x0 / h"
   ]
  },
  {
   "cell_type": "markdown",
   "id": "5e408839",
   "metadata": {},
   "source": [
    "Regra do Trapézio"
   ]
  },
  {
   "cell_type": "code",
   "execution_count": 363,
   "id": "0901f8d4",
   "metadata": {},
   "outputs": [],
   "source": [
    "def I_trapezoid(h: float, y: float):\n",
    "    return (h / 2) * (y)"
   ]
  },
  {
   "cell_type": "markdown",
   "id": "e75b1e1a",
   "metadata": {},
   "source": [
    "Regra de 1/3 de Simpson"
   ]
  },
  {
   "cell_type": "code",
   "execution_count": 364,
   "id": "40ae9329",
   "metadata": {},
   "outputs": [],
   "source": [
    "def I_Simpson(h: float, y: float):\n",
    "    return (h / 3) * (y)"
   ]
  },
  {
   "cell_type": "markdown",
   "id": "2060acf3",
   "metadata": {},
   "source": [
    "Fórmula transformada de Fourier"
   ]
  },
  {
   "cell_type": "code",
   "execution_count": 365,
   "id": "1dae817e",
   "metadata": {},
   "outputs": [],
   "source": [
    "\n",
    "def func(x):\n",
    "    return (math.exp(-(x**2))) / (math.cos(x) + 2)"
   ]
  },
  {
   "cell_type": "code",
   "execution_count": 366,
   "id": "c0a84dd3",
   "metadata": {},
   "outputs": [],
   "source": [
    "def _ensure_int(value, name: str) -> int:\n",
    "    if isinstance(value, int):\n",
    "        return value\n",
    "    if isinstance(value, float) and value.is_integer():\n",
    "        return int(value)\n",
    "    raise TypeError(f\"{name} must be an integer (got {type(value).__name__})\")"
   ]
  },
  {
   "cell_type": "markdown",
   "id": "851c951b",
   "metadata": {},
   "source": [
    "Regra do Trapézio - Resultado"
   ]
  },
  {
   "cell_type": "code",
   "execution_count": 367,
   "id": "f153a2f1",
   "metadata": {},
   "outputs": [
    {
     "name": "stdout",
     "output_type": "stream",
     "text": [
      "Para 100 subintervalos:  0.259939\n",
      "Para 50 subintervalos:  0.259933\n"
     ]
    }
   ],
   "source": [
    "def result_I_trapezoid_with_expression(\n",
    "    expression: object,\n",
    "    interval: tuple,\n",
    "    weight: int = 10000,\n",
    ") -> float:\n",
    "    if not callable(expression):\n",
    "        raise TypeError(\"Expression must be callable\")\n",
    "    start = interval[0] * weight\n",
    "    end = interval[1] * weight\n",
    "    step = interval[2] * weight\n",
    "    # ensure start, end and step are integers (allow float values that are whole numbers)\n",
    "    start = _ensure_int(start, \"start\")\n",
    "    end = _ensure_int(end, \"end\")\n",
    "    step = _ensure_int(step, \"step\")\n",
    "    # sample interior points (normalized by weight)\n",
    "\n",
    "    y = [expression(x / weight) for x in range(start + step, end, step)]\n",
    "    y = list(map(lambda x: x * 2, y))\n",
    "    # include endpoints\n",
    "    y.insert(0, expression(start / weight))\n",
    "    y.append(expression(end / weight))\n",
    "    return I_trapezoid(step / weight, sum(y))\n",
    "\n",
    "\n",
    "# Regra dos Trapézios resultado\n",
    "def result_I_trapezoid_with_y_list(y_list: list, h: int) -> float:\n",
    "    scaled_y_values = [value * 2 for value in y_list]\n",
    "    # include endpoints\n",
    "    scaled_y_values.append(y_list[0])\n",
    "    scaled_y_values.append(y_list[-1])\n",
    "    return I_trapezoid(h, sum(scaled_y_values))\n",
    "\n",
    "\n",
    "if __name__ == \"__main__\":\n",
    "    I_100_trapezoid = result_I_trapezoid_with_expression(func, (0, 1, 1 / 100))\n",
    "    I_50_trapezoid = result_I_trapezoid_with_expression(func, (0, 1, 1 / 50))\n",
    "    print(\"Para 100 subintervalos: \", round(I_100_trapezoid, DECIMAL_HOUSES))\n",
    "    print(\"Para 50 subintervalos: \", round(I_50_trapezoid, DECIMAL_HOUSES))"
   ]
  },
  {
   "cell_type": "markdown",
   "id": "61a41f7b",
   "metadata": {},
   "source": [
    "Regra de 1/3 de Simpson - Resultado"
   ]
  },
  {
   "cell_type": "code",
   "execution_count": 368,
   "id": "d1dd9970",
   "metadata": {},
   "outputs": [
    {
     "name": "stdout",
     "output_type": "stream",
     "text": [
      "Para 100 subintervalos:  0.259941\n",
      "Para 50 subintervalos:  0.259941\n"
     ]
    }
   ],
   "source": [
    "def result_I_Simpson_with_expression(\n",
    "    expression: object,\n",
    "    interval: tuple,\n",
    "    weight: int = 10000,\n",
    ") -> float:\n",
    "    if not callable(expression):\n",
    "        raise TypeError(\"Expression must be callable\")\n",
    "    start = interval[0] * weight\n",
    "    end = interval[1] * weight\n",
    "    step = interval[2] * weight\n",
    "    # ensure start, end and step are integers (allow float values that are whole numbers)\n",
    "    start = _ensure_int(start, \"start\")\n",
    "    end = _ensure_int(end, \"end\")\n",
    "    step = _ensure_int(step, \"step\")\n",
    "    intervals = list(range(start, end + step, step))\n",
    "\n",
    "    def new_value(acc, item):\n",
    "        index, value = item\n",
    "        multiplier = 2\n",
    "        if index % 2:\n",
    "            multiplier = 4\n",
    "        elif not index or index + 1 == len(intervals):\n",
    "            multiplier = 1\n",
    "        return acc + expression(value / weight) * multiplier\n",
    "\n",
    "    total = reduce(new_value, enumerate(intervals), 0)\n",
    "    # include endpoints\n",
    "    return I_Simpson(step / weight, total)\n",
    "\n",
    "\n",
    "def result_I_Simpson_with_y_list(\n",
    "    y_list: list,\n",
    "    h: float\n",
    ") -> float:\n",
    "    def new_value(acc, item):\n",
    "        index, y = item\n",
    "        multiplier = 2\n",
    "        if index % 2:\n",
    "            multiplier = 4\n",
    "        elif not index or index + 1 == len(y_list):\n",
    "            multiplier = 1\n",
    "        return acc + y * multiplier\n",
    "\n",
    "    total = reduce(new_value, enumerate(y_list), 0)\n",
    "    # include endpoints\n",
    "    return I_Simpson(h, total)\n",
    "\n",
    "\n",
    "if __name__ == \"__main__\":\n",
    "    I_100_Simpson = result_I_Simpson_with_expression(func, (0, 1, 1 / 100))\n",
    "    I_50_Simpson = result_I_Simpson_with_expression(func, (0, 1, 1 / 50))\n",
    "\n",
    "    print(\"Para 100 subintervalos: \", round(I_100_Simpson, DECIMAL_HOUSES))\n",
    "    print(\"Para 50 subintervalos: \", round(I_50_Simpson, DECIMAL_HOUSES))"
   ]
  },
  {
   "cell_type": "markdown",
   "id": "1e7259bb",
   "metadata": {},
   "source": [
    "Ordem de Convergência"
   ]
  },
  {
   "cell_type": "code",
   "execution_count": 369,
   "id": "191f7e34",
   "metadata": {},
   "outputs": [
    {
     "name": "stdout",
     "output_type": "stream",
     "text": [
      "Ordem de convergência p Simpson:  2.6981557240333163\n",
      "Ordem de convergência p trapezoid:  1.0986272349425719\n"
     ]
    }
   ],
   "source": [
    "def calculate_p(I_n_100, I_n_50, I_reference):\n",
    "    \"\"\"\n",
    "    Calculate parameter p based on intensity measurements.\n",
    "    \n",
    "    Parameters:\n",
    "    I_n_100 (float): Intensity at n=100\n",
    "    I_n_50 (float): Intensity at n=50  \n",
    "    I_reference (float): Reference intensity\n",
    "    \n",
    "    Returns:\n",
    "    float: Calculated p value\n",
    "    \"\"\"\n",
    "    try:\n",
    "        # Calculate the ratio inside the natural logarithm\n",
    "        numerator = I_n_100 - I_n_50\n",
    "        denominator = I_reference - I_n_100\n",
    "        \n",
    "        # Avoid division by zero\n",
    "        if denominator == 0:\n",
    "            raise ValueError(\"Denominator cannot be zero\")\n",
    "        \n",
    "        ratio = numerator / denominator\n",
    "        \n",
    "        # Calculate the natural logarithm\n",
    "        log_result = math.log(ratio)\n",
    "        \n",
    "        # Final p value (the second part shows p ≈ ln(2)/ln(2) = 1)\n",
    "        p = log_result\n",
    "        \n",
    "        return p\n",
    "        \n",
    "    except ValueError as e:\n",
    "        print(f\"Error: {e}\")\n",
    "        return None\n",
    "    except Exception as e:\n",
    "        print(f\"Unexpected error: {e}\")\n",
    "        return None\n",
    "\n",
    "# Example usage:\n",
    "if __name__ == \"__main__\":\n",
    "    I_ref = 0.259941222054\n",
    "    p_Simpson = calculate_p(I_100_Simpson, I_50_Simpson, I_ref)\n",
    "    p_trapezoid = calculate_p(I_100_trapezoid, I_50_trapezoid, I_ref)\n",
    "    print(\"Ordem de convergência p Simpson: \", p_Simpson)\n",
    "    print(\"Ordem de convergência p trapezoid: \", p_trapezoid)"
   ]
  },
  {
   "cell_type": "code",
   "execution_count": null,
   "id": "efb3db4c",
   "metadata": {},
   "outputs": [],
   "source": []
  }
 ],
 "metadata": {
  "kernelspec": {
   "display_name": "trabalho-fase4-m2",
   "language": "python",
   "name": "python3"
  },
  "language_info": {
   "codemirror_mode": {
    "name": "ipython",
    "version": 3
   },
   "file_extension": ".py",
   "mimetype": "text/x-python",
   "name": "python",
   "nbconvert_exporter": "python",
   "pygments_lexer": "ipython3",
   "version": "3.13.9"
  }
 },
 "nbformat": 4,
 "nbformat_minor": 5
}
